{
 "cells": [
  {
   "cell_type": "code",
   "execution_count": 1,
   "metadata": {},
   "outputs": [],
   "source": [
    "from peleenet import PeleeNet\n",
    "import tensorflow as tf\n",
    "import tensorflow\n",
    "import numpy as np\n",
    "from PIL import Image\n",
    "import pickle\n",
    "import os\n",
    "from tensorflow.keras.preprocessing.image import ImageDataGenerator\n",
    "#from tensorflow.contrib.tpu.python.tpu import keras_support"
   ]
  },
  {
   "cell_type": "code",
   "execution_count": 2,
   "metadata": {},
   "outputs": [],
   "source": [
    "def generator(X, y, batch_size, use_augmentation, shuffle, scale):\n",
    "    if use_augmentation:\n",
    "        base_gen = ImageDataGenerator(\n",
    "            horizontal_flip=True,\n",
    "            width_shift_range=4.0/32.0,\n",
    "            height_shift_range=4.0/32.0)\n",
    "    else:\n",
    "        base_gen = ImageDataGenerator()\n",
    "    for X_base, y_base in base_gen.flow(X, y, batch_size=batch_size, shuffle=shuffle):\n",
    "        if scale != 1:\n",
    "            X_batch = np.zeros((X_base.shape[0], X_base.shape[1]*scale,\n",
    "                                X_base.shape[2]*scale, X_base.shape[3]), np.float32)\n",
    "            for i in range(X_base.shape[0]):\n",
    "                with Image.fromarray(X_base[i].astype(np.uint8)) as img:\n",
    "                    img = img.resize((X_base.shape[1]*scale, X_base.shape[2]*scale), Image.LANCZOS)\n",
    "                    X_batch[i] = np.asarray(img, np.float32) / 255.0\n",
    "        else:\n",
    "            X_batch = X_base / 255.0\n",
    "        yield X_batch, y_base"
   ]
  },
  {
   "cell_type": "code",
   "execution_count": 3,
   "metadata": {},
   "outputs": [],
   "source": [
    "def lr_scheduler(epoch):\n",
    "    x = 0.4\n",
    "    if epoch >= 70: x /= 5.0\n",
    "    if epoch >= 120: x /= 5.0\n",
    "    if epoch >= 170: x /= 5.0\n",
    "    return x"
   ]
  },
  {
   "cell_type": "code",
   "execution_count": 6,
   "metadata": {},
   "outputs": [],
   "source": [
    "def train(use_augmentation, use_stem_block):\n",
    "    (X_train, y_train), (X_test, y_test) = tensorflow.keras.datasets.cifar10.load_data()\n",
    "    y_train = tensorflow.keras.utils.to_categorical(y_train)\n",
    "    y_test = tensorflow.keras.utils.to_categorical(y_test)\n",
    "\n",
    "    # generator\n",
    "    batch_size = 512\n",
    "    scale = 7 if use_stem_block else 1\n",
    "    train_gen = generator(X_train, y_train, batch_size=batch_size,\n",
    "                          use_augmentation=use_augmentation, shuffle=True, scale=scale)\n",
    "    test_gen = generator(X_test, y_test, batch_size=1000,\n",
    "                         use_augmentation=False, shuffle=False, scale=scale)\n",
    "    \n",
    "    # network\n",
    "    input_shape = (224,224,3) if use_stem_block else (32,32,3)\n",
    "    model = PeleeNet(input_shape=(224,224,3),use_stem_block=True, num_init_channel=3, k=32, block_config=[3,4,8,6], out_layers = [128,256,512,704],bottleneck_width=[2,2,4,4], n_classes=10)\n",
    "    model.compile(tensorflow.keras.optimizers.SGD(0.4, 0.9), \"categorical_crossentropy\", [\"acc\"])\n",
    "\n",
    "    scheduler = tensorflow.keras.callbacks.LearningRateScheduler(lr_scheduler)\n",
    "    hist = tensorflow.keras.callbacks.History()\n",
    "\n",
    "    model.fit_generator(train_gen, steps_per_epoch=X_train.shape[0]//batch_size,\n",
    "                        validation_data=test_gen, validation_steps=X_test.shape[0]//1000,\n",
    "                        callbacks=[scheduler, hist], epochs=1, max_queue_size=1)\n",
    "    \n",
    "    history = hist.history\n",
    "    with open(f\"pelee_aug_{use_augmentation}_stem_{use_stem_block}.pkl\", \"wb\") as fp:\n",
    "        pickle.dump(history, fp)"
   ]
  },
  {
   "cell_type": "code",
   "execution_count": null,
   "metadata": {},
   "outputs": [
    {
     "name": "stdout",
     "output_type": "stream",
     "text": [
      "96/97 [============================>.] - ETA: 45s - loss: 12.9912 - acc: 0.2151 "
     ]
    }
   ],
   "source": [
    "train(True,True)"
   ]
  },
  {
   "cell_type": "code",
   "execution_count": null,
   "metadata": {},
   "outputs": [],
   "source": []
  }
 ],
 "metadata": {
  "kernelspec": {
   "display_name": "Python 3",
   "language": "python",
   "name": "python3"
  },
  "language_info": {
   "codemirror_mode": {
    "name": "ipython",
    "version": 3
   },
   "file_extension": ".py",
   "mimetype": "text/x-python",
   "name": "python",
   "nbconvert_exporter": "python",
   "pygments_lexer": "ipython3",
   "version": "3.6.9"
  }
 },
 "nbformat": 4,
 "nbformat_minor": 2
}
