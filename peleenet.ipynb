{
 "cells": [
  {
   "cell_type": "code",
   "execution_count": 25,
   "metadata": {},
   "outputs": [
    {
     "name": "stdout",
     "output_type": "stream",
     "text": [
      "The autoreload extension is already loaded. To reload it, use:\n",
      "  %reload_ext autoreload\n"
     ]
    }
   ],
   "source": [
    "%matplotlib inline\n",
    "%load_ext autoreload\n",
    "%autoreload 2\n",
    "# Import modules\n",
    "import numpy as np\n",
    "import pandas as pd\n",
    "import matplotlib.pyplot as plt\n",
    "import tensorflow as tf"
   ]
  },
  {
   "cell_type": "code",
   "execution_count": 26,
   "metadata": {},
   "outputs": [],
   "source": [
    "import pandas as pd\n",
    "import os\n",
    "from tensorflow.keras.layers import Input,Dense,Activation,GlobalAveragePooling2D,Conv2D,MaxPooling2D,Flatten,Dropout,BatchNormalization,AveragePooling2D,Concatenate\n",
    "from tensorflow.keras.models import Model\n",
    "from tensorflow.keras import regularizers\n",
    "from tensorflow.keras import initializers\n",
    "import tensorflow as tf"
   ]
  },
  {
   "cell_type": "code",
   "execution_count": 27,
   "metadata": {},
   "outputs": [],
   "source": [
    "def conv2d_bn(x, nb_filter, num_row, num_col,\n",
    "              padding='same', strides=(1, 1)):\n",
    "    \n",
    "    x = Conv2D(nb_filter, (num_row, num_col),\n",
    "                      strides=strides,\n",
    "                      padding=padding,\n",
    "                      kernel_regularizer=regularizers.l2(weight_decay))(x)\n",
    "    x = BatchNormalization()(x)\n",
    "    x = Activation('relu')(x)\n",
    "    \n",
    "    return x"
   ]
  },
  {
   "cell_type": "code",
   "execution_count": 28,
   "metadata": {},
   "outputs": [],
   "source": [
    "def stem(x,num_init_channel=32):\n",
    "    \n",
    "    conv1_output = conv2d_bn(x, num_init_channel, 3, 3,strides=(2,2))\n",
    "    branch_0 = conv2d_bn(conv1_output, int(num_init_channel/2), 1, 1)\n",
    "    branch_0 = conv2d_bn(branch_0, num_init_channel, 3, 3,strides=(2,2))\n",
    "    print(\"the left branch is calculated\")\n",
    "    branch_1 = MaxPooling2D(2, strides=(2,2))(conv1_output)\n",
    "    print(\"the right branch is calulated\")\n",
    "    out = Concatenate()([branch_0, branch_1])\n",
    "    output = conv2d_bn(out, num_init_channel, 1, 1)\n",
    "    \n",
    "    return output"
   ]
  },
  {
   "cell_type": "code",
   "execution_count": 29,
   "metadata": {},
   "outputs": [],
   "source": [
    "def dense_block(x, num_block, bottleneck_width, k=32):\n",
    "    \n",
    "    inter_channel = k*bottleneck_width\n",
    "    output=x\n",
    "    \n",
    "    for index in range(num_block):\n",
    "        #left channel     \n",
    "        conv_branch_0 = conv2d_bn(output, inter_channel, 1, 1)\n",
    "        conv_branch_0 = conv2d_bn(conv_branch_0, k, 3, 3)\n",
    "        # right channel\n",
    "        conv_branch_1 = conv2d_bn(output, inter_channel, 1, 1)\n",
    "        conv_branch_1 = conv2d_bn(conv_branch_1, k, 3, 3)\n",
    "        conv_branch_1 = conv2d_bn(conv_branch_1, k, 3, 3)\n",
    "\n",
    "        output = Concatenate()([output, conv_branch_0, conv_branch_1])\n",
    "\n",
    "    return output"
   ]
  },
  {
   "cell_type": "code",
   "execution_count": 30,
   "metadata": {},
   "outputs": [],
   "source": [
    "def transition_block(x, output_channel, is_avgpool=True):\n",
    "    \n",
    "    conv0 = conv2d_bn(x, output_channel, 1, 1, strides=(2,2))\n",
    "    if is_avgpool:\n",
    "        output=AveragePooling2D((2,2),strides=(2,2))(conv0)\n",
    "    else:\n",
    "        output=conv0\n",
    "    return output"
   ]
  },
  {
   "cell_type": "code",
   "execution_count": 31,
   "metadata": {},
   "outputs": [],
   "source": [
    "def classification_layer(x, n_classes=1000):\n",
    "    \n",
    "    x = GlobalAveragePooling2D()(x)\n",
    "    x = Dense(n_classes, activation=\"softmax\")(x)\n",
    "    return x"
   ]
  },
  {
   "cell_type": "code",
   "execution_count": 32,
   "metadata": {},
   "outputs": [],
   "source": [
    "def PeleeNet(input_shape=(224,224,3),use_stem_block=True, num_init_channel=3, k=32, block_config=[3,4,8,6], out_layers = [128,256,512,704],bottleneck_width=[2,2,4,4],n_classes=1000):\n",
    "    \n",
    "    inputs = Input(shape=input_shape)\n",
    "    x=stem(inputs,num_init_channel) if use_stem_block else inputs\n",
    "    for i in range(4):\n",
    "        x = dense_block(x,block_config[i], bottleneck_width[i],k)\n",
    "        use_pooling = i < 3\n",
    "        x = transition_block(x, out_layers[i], is_avgpool=use_pooling)\n",
    "    x=classification_layer(x, n_classes) \n",
    "    \n",
    "    model = Model(inputs, x, name=\"peleenet\")\n",
    "    \n",
    "    return model"
   ]
  },
  {
   "cell_type": "code",
   "execution_count": null,
   "metadata": {},
   "outputs": [],
   "source": []
  }
 ],
 "metadata": {
  "kernelspec": {
   "display_name": "Python 3",
   "language": "python",
   "name": "python3"
  },
  "language_info": {
   "codemirror_mode": {
    "name": "ipython",
    "version": 3
   },
   "file_extension": ".py",
   "mimetype": "text/x-python",
   "name": "python",
   "nbconvert_exporter": "python",
   "pygments_lexer": "ipython3",
   "version": "3.6.9"
  }
 },
 "nbformat": 4,
 "nbformat_minor": 2
}
